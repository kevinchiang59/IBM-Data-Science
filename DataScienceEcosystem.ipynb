{
  "cells": [
    {
      "cell_type": "markdown",
      "metadata": {
        "id": "4uaKEq2vVoJo"
      },
      "source": [
        "<center>\n",
        "    <img src=\"https://cf-courses-data.s3.us.cloud-object-storage.appdomain.cloud/IBMDeveloperSkillsNetwork-DS0105EN-SkillsNetwork/labs/Module2/images/SN_web_lightmode.png\" width=\"300\" alt=\"cognitiveclass.ai logo\">\n",
        "</center>\n"
      ]
    },
    {
      "cell_type": "markdown",
      "metadata": {
        "id": "X_FHyARmVoJv"
      },
      "source": [
        "#### Add your code below following the instructions given in the course\n"
      ]
    },
    {
      "cell_type": "markdown",
      "source": [
        "Exercise 1: Create a Jupyter Notebook\n",
        "\n",
        "File name: DataScienceEcosystem.ipynb\n",
        "\n",
        "\n"
      ],
      "metadata": {
        "id": "yTOtacq3eiud"
      }
    },
    {
      "cell_type": "markdown",
      "source": [
        "Exercise 2: Create a markdown cell with the title of the notebook\n",
        "\n",
        "#Data Science Tools and Ecosystem\n",
        "\n",
        "\n"
      ],
      "metadata": {
        "id": "qVSn_CkHeoXq"
      }
    },
    {
      "cell_type": "markdown",
      "source": [
        "Exercise 3: Create a markdown cell for an introduction\n",
        "\n",
        "In this notebook, Data Science Tools and Ecosystem are summarized."
      ],
      "metadata": {
        "id": "u6e-prVyi9gL"
      }
    },
    {
      "cell_type": "markdown",
      "source": [
        "Exercise 4: Create a markdown cell to list data science languages\n",
        "\n",
        "Some of the popular languages that Data Scientists use are:\n",
        "1. Python\n",
        "2. R\n",
        "3. SQL\n",
        "4. Scala\n",
        "5. Julia\n",
        "6. Ruby\n",
        "7. Java\n",
        "8. C++\n",
        "9. MATLAB"
      ],
      "metadata": {
        "id": "X0mYkeC6jNH-"
      }
    },
    {
      "cell_type": "markdown",
      "source": [
        "Exercise 5: Create a markdown cell to list data science libraries\n",
        "\n",
        "Some of the commonly used libraries used by Data Scientists include:\n",
        "1. BeautifulSoup\n",
        "2. Matplotlib\n",
        "3. ggplot2\n",
        "4. Pandas\n",
        "5. Numpy\n",
        "6. Scipy\n",
        "7. Keras\n",
        "8. dplyr\n",
        "9. carat\n",
        "10. PyTorch\n",
        "\n",
        "\n"
      ],
      "metadata": {
        "id": "PTnKAYn5mM16"
      }
    },
    {
      "cell_type": "markdown",
      "source": [
        "Exercise 6: Create a markdown cell with a table of Data Science tools\n",
        "\n",
        "| Data Science Tools |\n",
        "|-------------------|\n",
        "| Apache Hadoop  |\n",
        "| TensorFlow           |\n",
        "| Apache Spark          |"
      ],
      "metadata": {
        "id": "hJKv1ZnpLuze"
      }
    },
    {
      "cell_type": "markdown",
      "source": [
        "Exercise 7: Create a markdown cell introducing arithmetic expression examples\n",
        "Below are a few examples of evaluating arithmetic expressions in Python"
      ],
      "metadata": {
        "id": "QTdjx7zqSHGY"
      }
    },
    {
      "cell_type": "code",
      "source": [
        "#Simple Addition\n",
        "print(1+1)"
      ],
      "metadata": {
        "colab": {
          "base_uri": "https://localhost:8080/",
          "height": 0
        },
        "id": "WnM9ZuGcSGln",
        "outputId": "41bbdd74-dc53-4ce9-bd21-02f045f80242"
      },
      "execution_count": 12,
      "outputs": [
        {
          "output_type": "stream",
          "name": "stdout",
          "text": [
            "2\n"
          ]
        }
      ]
    },
    {
      "cell_type": "code",
      "source": [
        "#Volume of a cone with radius 15 and height 9\n",
        "print(math.pi*15**2*9/3)"
      ],
      "metadata": {
        "colab": {
          "base_uri": "https://localhost:8080/",
          "height": 0
        },
        "id": "nq2MOnYFRg0F",
        "outputId": "d7346259-2f24-4deb-bc00-c7355ef054c7"
      },
      "execution_count": 13,
      "outputs": [
        {
          "output_type": "stream",
          "name": "stdout",
          "text": [
            "2120.57504117311\n"
          ]
        }
      ]
    },
    {
      "cell_type": "markdown",
      "source": [
        "Exercise 8: Create a code cell to multiply and add numbers\n"
      ],
      "metadata": {
        "id": "k2RJJwtfS02r"
      }
    },
    {
      "cell_type": "code",
      "source": [
        "#PEMDAS in use\n",
        "print((32+88)*39)"
      ],
      "metadata": {
        "colab": {
          "base_uri": "https://localhost:8080/",
          "height": 0
        },
        "id": "WV1mTFxgTt7E",
        "outputId": "423dda00-8de5-4ddf-9ccf-5fdfc313cae8"
      },
      "execution_count": 14,
      "outputs": [
        {
          "output_type": "stream",
          "name": "stdout",
          "text": [
            "4680\n"
          ]
        }
      ]
    },
    {
      "cell_type": "markdown",
      "source": [
        "Exercise 9: Create a code cell to convert minutes to hours"
      ],
      "metadata": {
        "id": "FdQIO2GCVQUD"
      }
    },
    {
      "cell_type": "code",
      "source": [
        "#This will convert 200 minuts to hours by dividing by 60\n",
        "minutes = 200\n",
        "hours = minutes/60\n",
        "print(hours)"
      ],
      "metadata": {
        "colab": {
          "base_uri": "https://localhost:8080/",
          "height": 0
        },
        "id": "_TqDI3RqVTBS",
        "outputId": "05536bc5-7650-4f7e-c758-3f6d3fc546cd"
      },
      "execution_count": 15,
      "outputs": [
        {
          "output_type": "stream",
          "name": "stdout",
          "text": [
            "3.3333333333333335\n"
          ]
        }
      ]
    },
    {
      "cell_type": "markdown",
      "source": [
        "Exercise 10: Insert a markdown cell to list Objectives\n",
        "\n",
        "**Objectives:**\n",
        "\n",
        "\n",
        "*   Popular Data Science Libraries\n",
        "*   Popular Data Science Languages\n",
        "*   Using Github\n",
        "*   Using Jupyter Notebooks\n",
        "\n",
        "\n",
        "\n"
      ],
      "metadata": {
        "id": "pTQhozYPWT0s"
      }
    },
    {
      "cell_type": "markdown",
      "source": [
        "Exercise 11: Create a markdown cell to indicate the Author's name\n",
        "\n",
        "##Author\n",
        "Kevin Chiang\n"
      ],
      "metadata": {
        "id": "DkAooZYuW7jZ"
      }
    }
  ],
  "metadata": {
    "kernelspec": {
      "display_name": "Python",
      "language": "python",
      "name": "conda-env-python-py"
    },
    "language_info": {
      "name": ""
    },
    "colab": {
      "provenance": []
    }
  },
  "nbformat": 4,
  "nbformat_minor": 0
}